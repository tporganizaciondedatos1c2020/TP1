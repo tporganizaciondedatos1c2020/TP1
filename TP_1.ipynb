{
 "cells": [
  {
   "cell_type": "markdown",
   "metadata": {
    "colab_type": "text",
    "id": "c45b92WdHrSN"
   },
   "source": [
    "# Info agregada por Cele"
   ]
  },
  {
   "cell_type": "code",
   "execution_count": 1,
   "metadata": {
    "colab": {
     "base_uri": "https://localhost:8080/",
     "height": 609
    },
    "colab_type": "code",
    "id": "Z4jKLCcwKbIn",
    "outputId": "6de7c3d1-695d-44d7-d451-91aa66e609fa"
   },
   "outputs": [
    {
     "ename": "NameError",
     "evalue": "name 'dataset' is not defined",
     "output_type": "error",
     "traceback": [
      "\u001B[1;31m---------------------------------------------------------------------------\u001B[0m",
      "\u001B[1;31mNameError\u001B[0m                                 Traceback (most recent call last)",
      "\u001B[1;32m<ipython-input-1-cb7c7e264e2a>\u001B[0m in \u001B[0;36m<module>\u001B[1;34m\u001B[0m\n\u001B[1;32m----> 1\u001B[1;33m \u001B[0mtweet_totals\u001B[0m \u001B[1;33m=\u001B[0m \u001B[0mdataset\u001B[0m\u001B[1;33m[\u001B[0m\u001B[1;34m'longitud'\u001B[0m\u001B[1;33m]\u001B[0m\u001B[1;33m.\u001B[0m\u001B[0mcount\u001B[0m\u001B[1;33m(\u001B[0m\u001B[1;33m)\u001B[0m\u001B[1;33m\u001B[0m\u001B[1;33m\u001B[0m\u001B[0m\n\u001B[0m\u001B[0;32m      2\u001B[0m \u001B[0mtweet_true_count\u001B[0m \u001B[1;33m=\u001B[0m \u001B[0mtweet_len_true\u001B[0m\u001B[1;33m.\u001B[0m\u001B[0mcount\u001B[0m\u001B[1;33m(\u001B[0m\u001B[1;33m)\u001B[0m\u001B[1;33m\u001B[0m\u001B[1;33m\u001B[0m\u001B[0m\n\u001B[0;32m      3\u001B[0m \u001B[0mtweet_false_count\u001B[0m \u001B[1;33m=\u001B[0m \u001B[0mtweet_len_false\u001B[0m\u001B[1;33m.\u001B[0m\u001B[0mcount\u001B[0m\u001B[1;33m(\u001B[0m\u001B[1;33m)\u001B[0m\u001B[1;33m\u001B[0m\u001B[1;33m\u001B[0m\u001B[0m\n\u001B[0;32m      4\u001B[0m \u001B[1;33m\u001B[0m\u001B[0m\n\u001B[0;32m      5\u001B[0m \u001B[0mlabels\u001B[0m \u001B[1;33m=\u001B[0m \u001B[1;34m'True Tweets'\u001B[0m\u001B[1;33m,\u001B[0m \u001B[1;34m'False Tweets'\u001B[0m\u001B[1;33m\u001B[0m\u001B[1;33m\u001B[0m\u001B[0m\n",
      "\u001B[1;31mNameError\u001B[0m: name 'dataset' is not defined"
     ]
    }
   ],
   "source": [
    "\n",
    "tweet_totals = dataset['longitud'].count()\n",
    "tweet_true_count = tweet_len_true.count()\n",
    "tweet_false_count = tweet_len_false.count()\n",
    "\n",
    "labels = 'True Tweets', 'False Tweets'\n",
    "sizes = [tweet_true_count, tweet_false_count]\n",
    "\n",
    "fig1, ax1 = plt.subplots()\n",
    "ax1.pie(sizes, labels=labels, autopct='%1.1f%%',\n",
    "        shadow=False, startangle=90)\n",
    "ax1.axis('equal')  # Equal aspect ratio ensures that pie is drawn as a circle.\n",
    "\n",
    "plt.show()"
   ]
  },
  {
   "cell_type": "markdown",
   "metadata": {
    "colab_type": "text",
    "id": "eHd1o7m_MozK"
   },
   "source": [
    "## Análisis de los hashtags"
   ]
  },
  {
   "cell_type": "code",
   "execution_count": null,
   "metadata": {
    "colab": {
     "base_uri": "https://localhost:8080/",
     "height": 34
    },
    "colab_type": "code",
    "id": "jwyW5FblL3oN",
    "outputId": "ed8ee4b8-9016-4aca-c2ce-9faba2f623ef"
   },
   "outputs": [],
   "source": [
    "# extrae los hashtags de un texto y devuelve una lista \n",
    "def hashtags(text):\n",
    "    result = []\n",
    "    for token in text.split():\n",
    "        if token[0]=='#':\n",
    "            result.append(token.replace('#', '').lower())\n",
    "    return result    \n",
    "\n",
    "text = 'Our Deeds are the Reason of this #earthquake May ALLAH Forgive us all'\n",
    "hashtags(text)"
   ]
  },
  {
   "cell_type": "code",
   "execution_count": null,
   "metadata": {
    "colab": {
     "base_uri": "https://localhost:8080/",
     "height": 238
    },
    "colab_type": "code",
    "id": "zWLRgy_pNKXU",
    "outputId": "82a3b8ff-24a6-42ce-e3af-2f837328a6fd"
   },
   "outputs": [],
   "source": [
    "dataset['hashtags'] = dataset.text.apply(lambda x : hashtags(x))\n",
    "dataset.head(5)"
   ]
  },
  {
   "cell_type": "code",
   "execution_count": null,
   "metadata": {
    "colab": {
     "base_uri": "https://localhost:8080/",
     "height": 708
    },
    "colab_type": "code",
    "id": "-cOuXfbnNURT",
    "outputId": "9165800a-7290-4475-b59e-a34258f95adf"
   },
   "outputs": [],
   "source": [
    "df_hashtags = dataset.explode('hashtags')\n",
    "df_hashtags.head(20)"
   ]
  },
  {
   "cell_type": "code",
   "execution_count": null,
   "metadata": {
    "colab": {
     "base_uri": "https://localhost:8080/",
     "height": 243
    },
    "colab_type": "code",
    "id": "2BjgO8BNNgRh",
    "outputId": "cd262d42-1329-49ac-8454-4e2c3c87416f"
   },
   "outputs": [],
   "source": [
    "# hay que ver si vale la pena porque hay muy pocos hashtags en comparacion al tamaño del dataset\n",
    "df_hashtags.info()"
   ]
  },
  {
   "cell_type": "code",
   "execution_count": null,
   "metadata": {
    "colab": {
     "base_uri": "https://localhost:8080/",
     "height": 206
    },
    "colab_type": "code",
    "id": "Fa8hoFObNszg",
    "outputId": "a7b36b21-a26d-47b5-a62a-baa3ea3e263c"
   },
   "outputs": [],
   "source": [
    "top_hashtags_series = df_hashtags.hashtags.value_counts().nlargest(50)\n",
    "top_hashtags = pd.DataFrame(top_hashtags_series).reset_index()\n",
    "top_hashtags.columns = ['hashtags','Cantidad']\n",
    "top_hashtags.head()\n"
   ]
  },
  {
   "cell_type": "code",
   "execution_count": null,
   "metadata": {
    "colab": {
     "base_uri": "https://localhost:8080/",
     "height": 34
    },
    "colab_type": "code",
    "id": "vMgDx1c8Om6b",
    "outputId": "d95a40aa-0c53-4aa2-b5f5-4b7625754091"
   },
   "outputs": [],
   "source": [
    "top_hashtags.Cantidad.sum()"
   ]
  },
  {
   "cell_type": "code",
   "execution_count": null,
   "metadata": {
    "colab": {
     "base_uri": "https://localhost:8080/",
     "height": 546
    },
    "colab_type": "code",
    "id": "AGOHkY7UOEUK",
    "outputId": "aa5e4571-63c0-4e37-ae49-666c6bf21246"
   },
   "outputs": [],
   "source": [
    "\n",
    "fig, ax = plt.subplots()\n",
    "\n",
    "\n",
    "plt.xlabel(\"Hashtags\",fontsize=14)\n",
    "plt.ylabel('Cantidad',fontsize=14)\n",
    "plt.title('Análisis de los hashtags más frecuentes',fontsize=16,fontweight='bold', pad = 15)\n",
    "\n",
    "top_hashtags.plot.bar(x='hashtags',y='Cantidad', ax = ax)\n",
    "\n",
    "plt.show()"
   ]
  },
  {
   "cell_type": "markdown",
   "metadata": {
    "colab_type": "text",
    "id": "wJJ0bCqGPz2O"
   },
   "source": [
    "## Análisis por ubicacion"
   ]
  },
  {
   "cell_type": "code",
   "execution_count": null,
   "metadata": {
    "colab": {
     "base_uri": "https://localhost:8080/",
     "height": 515
    },
    "colab_type": "code",
    "id": "wd3Jds1VR46h",
    "outputId": "cc99a655-c19f-4105-d1f5-fd7a498047b5"
   },
   "outputs": [],
   "source": []
  },
  {
   "cell_type": "markdown",
   "metadata": {
    "colab_type": "text",
    "id": "DwAKE4rfWaZe"
   },
   "source": [
    "## Análisis por keywords"
   ]
  },
  {
   "cell_type": "code",
   "execution_count": null,
   "metadata": {
    "colab": {
     "base_uri": "https://localhost:8080/",
     "height": 225
    },
    "colab_type": "code",
    "id": "ofmjrjr8R_CI",
    "outputId": "1976730c-13ed-46dd-c756-b0f660d7783f"
   },
   "outputs": [],
   "source": [
    "dataset.keyword.value_counts()"
   ]
  },
  {
   "cell_type": "code",
   "execution_count": null,
   "metadata": {
    "colab": {
     "base_uri": "https://localhost:8080/",
     "height": 69
    },
    "colab_type": "code",
    "id": "DYX1EL7nWhNu",
    "outputId": "67f5486a-fc6a-468c-a322-7aa3c28424e1"
   },
   "outputs": [],
   "source": [
    "dataset.keyword.isnull().value_counts()"
   ]
  },
  {
   "cell_type": "code",
   "execution_count": null,
   "metadata": {
    "colab": {
     "base_uri": "https://localhost:8080/",
     "height": 206
    },
    "colab_type": "code",
    "id": "44LOuxrJWpWo",
    "outputId": "ffe48b47-2e87-41af-a9d2-fcf875fe3a01"
   },
   "outputs": [],
   "source": [
    "top_keywords = dataset.keyword.value_counts().reset_index()\n",
    "top_keywords.columns = ['Keywords', 'Cantidad']\n",
    "\n",
    "top_keywords.head(5)"
   ]
  },
  {
   "cell_type": "code",
   "execution_count": null,
   "metadata": {
    "colab": {
     "base_uri": "https://localhost:8080/",
     "height": 300
    },
    "colab_type": "code",
    "id": "KetcC2e3Wr3W",
    "outputId": "d8f6799c-4cab-4461-c391-15ab15ff9f7f"
   },
   "outputs": [],
   "source": [
    "top_keywords.describe()\n",
    "# estan distribuidas bastante uniformemente"
   ]
  },
  {
   "cell_type": "code",
   "execution_count": null,
   "metadata": {
    "colab": {
     "base_uri": "https://localhost:8080/",
     "height": 498
    },
    "colab_type": "code",
    "id": "IVf_dSpCWwar",
    "outputId": "3c460d05-e4da-4eab-8537-9e1fac2bb985"
   },
   "outputs": [],
   "source": [
    "fig, ax = plt.subplots()\n",
    "\n",
    "top_keywords.nlargest(50,'Cantidad').plot(kind='bar', x = 'Keywords', ax = ax)\n",
    "\n",
    "plt.xlabel(\"Keywords\",fontsize=14)\n",
    "plt.ylabel('Cantidad',fontsize=14)\n",
    "plt.title('Análisis de las keywords más frecuentes',fontsize=16,fontweight='bold', pad = 15)\n"
   ]
  },
  {
   "cell_type": "code",
   "execution_count": null,
   "metadata": {
    "colab": {},
    "colab_type": "code",
    "id": "OEmQRmKFW6qa"
   },
   "outputs": [],
   "source": []
  },
  {
   "cell_type": "markdown",
   "metadata": {
    "colab_type": "text",
    "id": "W_BJTRfGNFU9"
   },
   "source": [
    "#agrego texto para probar cambios "
   ]
  },
  {
   "cell_type": "markdown",
   "metadata": {
    "colab_type": "text",
    "id": "3NUMPkluWM08"
   },
   "source": [
    "# TEXTO 2 PARA VER HISTORIAL "
   ]
  },
  {
   "cell_type": "markdown",
   "metadata": {},
   "source": [
    "# ahora esto lo agrego con mi usuario \n"
   ]
  },
  {
   "cell_type": "markdown",
   "metadata": {
    "colab_type": "text",
    "id": "2cjXUPEzW9us"
   },
   "source": [
    "# Info agregada por ..."
   ]
  },
  {
   "cell_type": "code",
   "execution_count": null,
   "metadata": {
    "colab": {},
    "colab_type": "code",
    "id": "tOIRUdi6W_8p"
   },
   "outputs": [],
   "source": [
    "# Pongan toda la info en celdas como estas"
   ]
  }
 ],
 "metadata": {
  "colab": {
   "collapsed_sections": [
    "fVW41IwnaHVm"
   ],
   "name": "TP 1.ipynb",
   "provenance": []
  },
  "kernelspec": {
   "display_name": "Python 3",
   "language": "python",
   "name": "python3"
  },
  "language_info": {
   "codemirror_mode": {
    "name": "ipython",
    "version": 3
   },
   "file_extension": ".py",
   "mimetype": "text/x-python",
   "name": "python",
   "nbconvert_exporter": "python",
   "pygments_lexer": "ipython3",
   "version": "3.7.6"
  }
 },
 "nbformat": 4,
 "nbformat_minor": 1
}
